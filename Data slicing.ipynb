{
 "cells": [
  {
   "cell_type": "code",
   "execution_count": 5,
   "id": "5a4e6992",
   "metadata": {},
   "outputs": [],
   "source": [
    "a=[ \"Apple\",\"Banana\",\"Mango\",\"Grapes\",\"Papaya\",\"Coconut\",\"Guava\"]\n"
   ]
  },
  {
   "cell_type": "code",
   "execution_count": 10,
   "id": "0d33bc58",
   "metadata": {},
   "outputs": [
    {
     "name": "stdout",
     "output_type": "stream",
     "text": [
      "['Banana', 'Mango', 'Grapes', 'Papaya', 'Coconut']\n"
     ]
    }
   ],
   "source": [
    "print(a[1:6])"
   ]
  },
  {
   "cell_type": "code",
   "execution_count": 11,
   "id": "0eee6c3f",
   "metadata": {},
   "outputs": [],
   "source": [
    "a=[ \"Apple\",\"Banana\",\"Mango\",\"Grapes\",\"Papaya\",\"Coconut\",\"Guava\"]"
   ]
  },
  {
   "cell_type": "code",
   "execution_count": 12,
   "id": "7eae2d9f",
   "metadata": {},
   "outputs": [
    {
     "name": "stdout",
     "output_type": "stream",
     "text": [
      "['Apple', 'Banana', 'Mango', 'Grapes', 'Papaya']\n"
     ]
    }
   ],
   "source": [
    "print(a[:5])"
   ]
  },
  {
   "cell_type": "code",
   "execution_count": 13,
   "id": "402f8b3d",
   "metadata": {},
   "outputs": [],
   "source": [
    "a=[ \"Apple\",\"Banana\",\"Mango\",\"Grapes\",\"Papaya\",\"Coconut\",\"Guava\"]"
   ]
  },
  {
   "cell_type": "code",
   "execution_count": 14,
   "id": "678b3baf",
   "metadata": {},
   "outputs": [
    {
     "name": "stdout",
     "output_type": "stream",
     "text": [
      "['Mango', 'Grapes', 'Papaya', 'Coconut', 'Guava']\n"
     ]
    }
   ],
   "source": [
    "print(a[2:])"
   ]
  },
  {
   "cell_type": "code",
   "execution_count": 18,
   "id": "01b4cb1b",
   "metadata": {},
   "outputs": [],
   "source": [
    "a=[ \"Apple\",\"Banana\",\"Mango\",\"Grapes\",\"Papaya\",\"Coconut\",\"Guava\"]"
   ]
  },
  {
   "cell_type": "code",
   "execution_count": 21,
   "id": "ada4ca42",
   "metadata": {},
   "outputs": [
    {
     "name": "stdout",
     "output_type": "stream",
     "text": [
      "['Mango', 'Grapes', 'Papaya', 'Coconut']\n"
     ]
    }
   ],
   "source": [
    "print(a[-5:-1])"
   ]
  },
  {
   "cell_type": "code",
   "execution_count": 26,
   "id": "dd07be6b",
   "metadata": {},
   "outputs": [
    {
     "name": "stdout",
     "output_type": "stream",
     "text": [
      "['Apple', 'Banana', 'Black', 'Grapes', 'Papaya', 'Coconut', 'Guava']\n"
     ]
    }
   ],
   "source": [
    "a=[ \"Apple\",\"Banana\",\"Mango\",\"Grapes\",\"Papaya\",\"Coconut\",\"Guava\"]\n",
    "a[-5]='Black'\n",
    "print(a)"
   ]
  },
  {
   "cell_type": "code",
   "execution_count": 8,
   "id": "6207abe0",
   "metadata": {},
   "outputs": [
    {
     "name": "stdout",
     "output_type": "stream",
     "text": [
      "['Apple', 'Banana', 'Black', 'one', 'Papaya', 'Coconut', 'Guava']\n"
     ]
    }
   ],
   "source": [
    "a=[ \"Apple\",\"Banana\",\"Mango\",\"Grapes\",\"Papaya\",\"Coconut\",\"Guava\"]\n",
    "a[2:4]=[\"Black\",\"one\"]\n",
    "print(a)"
   ]
  },
  {
   "cell_type": "code",
   "execution_count": 9,
   "id": "655ab538",
   "metadata": {},
   "outputs": [
    {
     "name": "stdout",
     "output_type": "stream",
     "text": [
      "['Apple', 'Banana', 'Mango', 'Grapes', 'Papaya', 'Coconut', 'Guava', 'black']\n"
     ]
    }
   ],
   "source": [
    "a=[ \"Apple\",\"Banana\",\"Mango\",\"Grapes\",\"Papaya\",\"Coconut\",\"Guava\"]\n",
    "a.append(\"black\")\n",
    "print(a)"
   ]
  },
  {
   "cell_type": "code",
   "execution_count": 14,
   "id": "b7e32f74",
   "metadata": {},
   "outputs": [
    {
     "name": "stdout",
     "output_type": "stream",
     "text": [
      "['Apple', 'Banana', 'Mango', 'Grapes', 'Papaya', 'any', 'Coconut', 'Guava']\n"
     ]
    }
   ],
   "source": [
    "a=[ \"Apple\",\"Banana\",\"Mango\",\"Grapes\",\"Papaya\",\"Coconut\",\"Guava\"]\n",
    "a.insert(5,\"any\")\n",
    "print(a)"
   ]
  },
  {
   "cell_type": "code",
   "execution_count": 24,
   "id": "b50c9d91",
   "metadata": {},
   "outputs": [
    {
     "name": "stdout",
     "output_type": "stream",
     "text": [
      "['Banana', 'Mango', 'Grapes', 'Papaya', 'Coconut', 'Guava']\n"
     ]
    }
   ],
   "source": [
    "a=[ \"Apple\",\"Banana\",\"Mango\",\"Grapes\",\"Papaya\",\"Coconut\",\"Guava\"]\n",
    "a.remove(\"Apple\")\n",
    "print(a)"
   ]
  },
  {
   "cell_type": "code",
   "execution_count": null,
   "id": "941aa967",
   "metadata": {},
   "outputs": [],
   "source": []
  }
 ],
 "metadata": {
  "kernelspec": {
   "display_name": "Python 3 (ipykernel)",
   "language": "python",
   "name": "python3"
  },
  "language_info": {
   "codemirror_mode": {
    "name": "ipython",
    "version": 3
   },
   "file_extension": ".py",
   "mimetype": "text/x-python",
   "name": "python",
   "nbconvert_exporter": "python",
   "pygments_lexer": "ipython3",
   "version": "3.10.9"
  }
 },
 "nbformat": 4,
 "nbformat_minor": 5
}
